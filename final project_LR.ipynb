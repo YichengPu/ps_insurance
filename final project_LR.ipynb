{
 "cells": [
  {
   "cell_type": "markdown",
   "metadata": {},
   "source": [
    "## Data Processing"
   ]
  },
  {
   "cell_type": "code",
   "execution_count": 1,
   "metadata": {},
   "outputs": [
    {
     "name": "stderr",
     "output_type": "stream",
     "text": [
      "/home/yicheng/anaconda3/lib/python3.6/site-packages/sklearn/cross_validation.py:41: DeprecationWarning: This module was deprecated in version 0.18 in favor of the model_selection module into which all the refactored classes and functions are moved. Also note that the interface of the new CV iterators are different from that of this module. This module will be removed in 0.20.\n",
      "  \"This module will be removed in 0.20.\", DeprecationWarning)\n"
     ]
    }
   ],
   "source": [
    "import numpy as np\n",
    "import pandas as pd\n",
    "import matplotlib.pyplot as plt\n",
    "import seaborn as sns\n",
    "from sklearn.preprocessing import Imputer\n",
    "from sklearn.preprocessing import PolynomialFeatures\n",
    "from sklearn.preprocessing import StandardScaler\n",
    "from sklearn.feature_selection import VarianceThreshold\n",
    "from sklearn.feature_selection import SelectFromModel\n",
    "from sklearn.utils import shuffle\n",
    "from sklearn.model_selection import StratifiedKFold\n",
    "from sklearn.linear_model import LogisticRegression\n",
    "from sklearn import metrics, cross_validation"
   ]
  },
  {
   "cell_type": "code",
   "execution_count": 2,
   "metadata": {
    "collapsed": true
   },
   "outputs": [],
   "source": [
    "## gini coefficient\n",
    "def gini(actual, pred, cmpcol = 0, sortcol = 1):\n",
    "    assert( len(actual) == len(pred) )\n",
    "    all = np.asarray(np.c_[ actual, pred, np.arange(len(actual)) ], dtype=np.float)\n",
    "    all = all[ np.lexsort((all[:,2], -1*all[:,1])) ]\n",
    "    totalLosses = all[:,0].sum()\n",
    "    giniSum = all[:,0].cumsum().sum() / totalLosses\n",
    " \n",
    "    giniSum -= (len(actual) + 1) / 2.\n",
    "    return giniSum / len(actual)\n",
    " \n",
    "def gini_normalized(a, p):\n",
    "    return gini(a, p) / gini(a, a)"
   ]
  },
  {
   "cell_type": "code",
   "execution_count": 3,
   "metadata": {
    "collapsed": true
   },
   "outputs": [],
   "source": [
    "train = pd.read_csv('train.csv')\n",
    "train_label = train['target']\n",
    "train_id = train['id']\n",
    "test = pd.read_csv('test.csv')\n",
    "test_id = test['id']"
   ]
  },
  {
   "cell_type": "code",
   "execution_count": 4,
   "metadata": {
    "collapsed": true
   },
   "outputs": [],
   "source": [
    "nFolds = 10\n",
    "kfold = StratifiedKFold(n_splits = nFolds, shuffle = True)"
   ]
  },
  {
   "cell_type": "code",
   "execution_count": 5,
   "metadata": {
    "collapsed": true
   },
   "outputs": [],
   "source": [
    "y = train['target'].values\n",
    "#since ps_car_03_cat and ps_car_05_cathas \n",
    "#a lot of missing data \n",
    "data_feature = train.drop(['id','target',\n",
    "            'ps_car_03_cat', 'ps_car_05_cat'],axis = 1)\n",
    "feature_names = data_feature.columns.tolist()\n",
    "\n",
    "mean_imp = Imputer(missing_values = -1, strategy = 'mean'\n",
    "                   , axis = 0)\n",
    "mode_imp = Imputer(missing_values = -1, strategy = 'most_frequent'\n",
    "                   ,axis = 0)\n",
    "train['ps_reg_03'] = mean_imp.fit_transform(train[['ps_reg_03']])\n",
    "train['ps_car_12'] = mean_imp.fit_transform(train[['ps_car_12']])\n",
    "train['ps_car_14'] = mean_imp.fit_transform(train[['ps_car_14']])\n",
    "train['ps_car_11'] = mode_imp.fit_transform(train[['ps_car_11']])\n",
    "cat_features = [i for i in feature_names if \n",
    "                ('cat' in i and '_1' not in i )]\n",
    "train = pd.get_dummies(train, columns = cat_features, \n",
    "                       drop_first=True)"
   ]
  },
  {
   "cell_type": "code",
   "execution_count": 6,
   "metadata": {
    "collapsed": true
   },
   "outputs": [],
   "source": [
    "selector = VarianceThreshold(threshold=.01)\n",
    "selector.fit(train.drop(['id', 'target'], axis=1)) # Fit to train without id and target variables\n",
    "f = np.vectorize(lambda x : not x) # Function to toggle boolean array elements\n",
    "v = train.drop(['id', 'target'], axis=1).columns[f(selector.get_support())]"
   ]
  },
  {
   "cell_type": "code",
   "execution_count": 7,
   "metadata": {},
   "outputs": [
    {
     "name": "stdout",
     "output_type": "stream",
     "text": [
      "24 variables have too low variance.\n",
      "These variables are ['ps_ind_10_bin', 'ps_ind_11_bin', 'ps_ind_12_bin', 'ps_ind_13_bin', 'ps_car_10_cat', 'ps_car_12', 'ps_car_14', 'ps_ind_05_cat_2', 'ps_ind_05_cat_5', 'ps_car_01_cat_0', 'ps_car_01_cat_1', 'ps_car_01_cat_2', 'ps_car_04_cat_3', 'ps_car_04_cat_4', 'ps_car_04_cat_5', 'ps_car_04_cat_6', 'ps_car_04_cat_7', 'ps_car_06_cat_2', 'ps_car_06_cat_5', 'ps_car_06_cat_8', 'ps_car_06_cat_12', 'ps_car_06_cat_16', 'ps_car_06_cat_17', 'ps_car_09_cat_4']\n"
     ]
    }
   ],
   "source": [
    "print('{} variables have too low variance.'.format(len(v)))\n",
    "print('These variables are {}'.format(list(v)))"
   ]
  },
  {
   "cell_type": "code",
   "execution_count": null,
   "metadata": {},
   "outputs": [
    {
     "name": "stdout",
     "output_type": "stream",
     "text": [
      "10\n",
      "0.185623674704\n",
      "             precision    recall  f1-score   support\n",
      "\n",
      "          0       0.97      0.63      0.76    573518\n",
      "          1       0.05      0.56      0.10     21694\n",
      "\n",
      "avg / total       0.94      0.63      0.74    595212\n",
      "\n",
      "100\n",
      "0.185625812962\n",
      "             precision    recall  f1-score   support\n",
      "\n",
      "          0       0.97      0.63      0.76    573518\n",
      "          1       0.05      0.56      0.10     21694\n",
      "\n",
      "avg / total       0.94      0.63      0.74    595212\n",
      "\n",
      "1000\n"
     ]
    }
   ],
   "source": [
    "from sklearn import metrics, cross_validation\n",
    "for c in [10**1,10**2,10**3,30,150]:\n",
    "    print(c)\n",
    "    logreg=LogisticRegression(class_weight = 'balanced',C=c)\n",
    "    predicted = cross_validation.cross_val_predict(logreg,train.drop(['id','target'],axis =1),y,cv=10)\n",
    "    print(gini_normalized(y, predicted))\n",
    "    print(metrics.classification_report(y, predicted) )"
   ]
  },
  {
   "cell_type": "code",
   "execution_count": 53,
   "metadata": {},
   "outputs": [
    {
     "data": {
      "text/plain": [
       "array([0, 1, 0, ..., 0, 0, 0])"
      ]
     },
     "execution_count": 53,
     "metadata": {},
     "output_type": "execute_result"
    }
   ],
   "source": [
    "logreg.fit(train.drop(['id','target'],axis =1),y)\n",
    "logreg.predict(test.drop(['id'],axis = 1))\n"
   ]
  },
  {
   "cell_type": "code",
   "execution_count": 44,
   "metadata": {},
   "outputs": [
    {
     "name": "stdout",
     "output_type": "stream",
     "text": [
      "gini score is:  0.185795070237\n"
     ]
    }
   ],
   "source": [
    "print(\"gini score is: \", gini_normalized(y, predicted))"
   ]
  },
  {
   "cell_type": "code",
   "execution_count": 54,
   "metadata": {
    "collapsed": true
   },
   "outputs": [],
   "source": [
    "prediction = logreg.predict(test.drop(['id'],axis = 1))\n",
    "pd.DataFrame({'id': test_id, 'target': prediction}).to_csv('pred_avg1.csv', index=False)"
   ]
  },
  {
   "cell_type": "code",
   "execution_count": 50,
   "metadata": {
    "collapsed": true
   },
   "outputs": [],
   "source": [
    "data_feature = train.drop(['id','target',\n",
    "            'ps_car_03_cat', 'ps_car_05_cat'],axis = 1)\n",
    "kf = kfold.split(data_feature, train_label)\n",
    "alg=LogisticRegression(class_weight = 'balanced')\n",
    "pradication=[]\n",
    "for t1,t2 in kf:\n",
    "    train_data = train.drop(['id', 'target'],axis = 1).iloc[t1]\n",
    "    train_prad = y[t1]\n",
    "    alg.fit(train_data,train_prad)\n",
    "    test_prad = alg.predict(train.drop(['id', 'target'],axis = 1).iloc[t2])\n",
    "    pradication.append(test_prad)\n",
    "pradication=np.concatenate(pradication,axis=0)"
   ]
  },
  {
   "cell_type": "code",
   "execution_count": 51,
   "metadata": {},
   "outputs": [
    {
     "name": "stdout",
     "output_type": "stream",
     "text": [
      "The accuracy of train data is : 0.612973192745\n"
     ]
    }
   ],
   "source": [
    "accuracy=sum(pradication == train['target'])/len(pradication)\n",
    "print(\"The accuracy of train data is :\",accuracy)"
   ]
  },
  {
   "cell_type": "code",
   "execution_count": 52,
   "metadata": {},
   "outputs": [
    {
     "name": "stdout",
     "output_type": "stream",
     "text": [
      "gini score is:  -0.00100961770412\n"
     ]
    }
   ],
   "source": [
    "print(\"gini score is: \", gini_normalized(y, pradication))"
   ]
  },
  {
   "cell_type": "code",
   "execution_count": 42,
   "metadata": {
    "collapsed": true
   },
   "outputs": [],
   "source": [
    "data_feature1 = test.drop(['id',\n",
    "            'ps_car_03_cat', 'ps_car_05_cat'],axis = 1)\n",
    "feature_names1 = data_feature1.columns.tolist()\n",
    "\n",
    "mean_imp = Imputer(missing_values = -1, strategy = 'mean'\n",
    "                   , axis = 0)\n",
    "mode_imp = Imputer(missing_values = -1, strategy = 'most_frequent'\n",
    "                   ,axis = 0)\n",
    "test['ps_reg_03'] = mean_imp.fit_transform(test[['ps_reg_03']])\n",
    "test['ps_car_12'] = mean_imp.fit_transform(test[['ps_car_12']])\n",
    "test['ps_car_14'] = mean_imp.fit_transform(test[['ps_car_14']])\n",
    "test['ps_car_11'] = mode_imp.fit_transform(test[['ps_car_11']])\n",
    "cat_features = [i for i in feature_names1 if \n",
    "                ('cat' in i and '_1' not in i )]\n",
    "test = pd.get_dummies(test, columns = cat_features, \n",
    "                       drop_first=True)\n",
    "prediction = alg.predict(test.drop([\"id\"],axis = 1))\n",
    "pd.DataFrame({'id': test_id, 'target': prediction}).to_csv('pred_avg.csv', index=False)"
   ]
  },
  {
   "cell_type": "code",
   "execution_count": 37,
   "metadata": {},
   "outputs": [
    {
     "data": {
      "text/plain": [
       "202087"
      ]
     },
     "execution_count": 37,
     "metadata": {},
     "output_type": "execute_result"
    }
   ],
   "source": []
  },
  {
   "cell_type": "code",
   "execution_count": null,
   "metadata": {
    "collapsed": true
   },
   "outputs": [],
   "source": []
  }
 ],
 "metadata": {
  "kernelspec": {
   "display_name": "Python 3",
   "language": "python",
   "name": "python3"
  },
  "language_info": {
   "codemirror_mode": {
    "name": "ipython",
    "version": 3
   },
   "file_extension": ".py",
   "mimetype": "text/x-python",
   "name": "python",
   "nbconvert_exporter": "python",
   "pygments_lexer": "ipython3",
   "version": "3.6.1"
  }
 },
 "nbformat": 4,
 "nbformat_minor": 2
}
